{
  "nbformat": 4,
  "nbformat_minor": 0,
  "metadata": {
    "colab": {
      "name": "SLR_tinyml.ipynb",
      "provenance": [],
      "collapsed_sections": [],
      "authorship_tag": "ABX9TyPNMaNUPZtvuJIDu723eIPi",
      "include_colab_link": true
    },
    "kernelspec": {
      "name": "python3",
      "display_name": "Python 3"
    },
    "language_info": {
      "name": "python"
    }
  },
  "cells": [
    {
      "cell_type": "markdown",
      "metadata": {
        "id": "view-in-github",
        "colab_type": "text"
      },
      "source": [
        "<a href=\"https://colab.research.google.com/github/carloshvp/slr_tinyml/blob/main/SLR_tinyml.ipynb\" target=\"_parent\"><img src=\"https://colab.research.google.com/assets/colab-badge.svg\" alt=\"Open In Colab\"/></a>"
      ]
    },
    {
      "cell_type": "code",
      "metadata": {
        "id": "GopAmLKS15Ej"
      },
      "source": [
        "import numpy as np\n",
        "import pandas as pd\n",
        "from matplotlib import pyplot as plt"
      ],
      "execution_count": null,
      "outputs": []
    },
    {
      "cell_type": "code",
      "metadata": {
        "colab": {
          "base_uri": "https://localhost:8080/"
        },
        "id": "wWWsoU6l2BZn",
        "outputId": "e9bf15fd-917f-4393-82c9-1d2cba0802ac"
      },
      "source": [
        "# Mounting Google Drive to load Dataset\n",
        "from google.colab import drive\n",
        "drive.mount('/content/drive')"
      ],
      "execution_count": null,
      "outputs": [
        {
          "output_type": "stream",
          "name": "stdout",
          "text": [
            "Drive already mounted at /content/drive; to attempt to forcibly remount, call drive.mount(\"/content/drive\", force_remount=True).\n"
          ]
        }
      ]
    },
    {
      "cell_type": "code",
      "metadata": {
        "id": "xf3GLL1U7SlO"
      },
      "source": [
        "\n",
        "WoS_recs = pd.read_excel(\"/content/drive/MyDrive/SLR_tinyml/WoS_29082021.xls\", sheet_name=\"savedrecs\")"
      ],
      "execution_count": null,
      "outputs": []
    },
    {
      "cell_type": "code",
      "metadata": {
        "id": "9vwpXjrUaPXr"
      },
      "source": [
        "Scopus_recs = pd.read_csv(\"/content/drive/MyDrive/SLR_tinyml/scopus_29082021.csv\", sep=\",\")"
      ],
      "execution_count": null,
      "outputs": []
    },
    {
      "cell_type": "code",
      "metadata": {
        "colab": {
          "base_uri": "https://localhost:8080/"
        },
        "id": "NyqSlGgWatZG",
        "outputId": "603247f6-f5f5-4ced-f04b-55be83fb1c8d"
      },
      "source": [
        "WoS_recs.info()"
      ],
      "execution_count": null,
      "outputs": [
        {
          "output_type": "stream",
          "name": "stdout",
          "text": [
            "<class 'pandas.core.frame.DataFrame'>\n",
            "RangeIndex: 69 entries, 0 to 68\n",
            "Data columns (total 68 columns):\n",
            " #   Column                      Non-Null Count  Dtype  \n",
            "---  ------                      --------------  -----  \n",
            " 0   Publication Type            69 non-null     object \n",
            " 1   Authors                     69 non-null     object \n",
            " 2   Book Authors                0 non-null      float64\n",
            " 3   Book Editors                0 non-null      float64\n",
            " 4   Book Group Authors          0 non-null      float64\n",
            " 5   Author Full Names           69 non-null     object \n",
            " 6   Book Author Full Names      0 non-null      float64\n",
            " 7   Group Authors               0 non-null      float64\n",
            " 8   Article Title               69 non-null     object \n",
            " 9   Source Title                69 non-null     object \n",
            " 10  Book Series Title           0 non-null      float64\n",
            " 11  Book Series Subtitle        0 non-null      float64\n",
            " 12  Language                    0 non-null      float64\n",
            " 13  Document Type               0 non-null      float64\n",
            " 14  Conference Title            1 non-null      object \n",
            " 15  Conference Date             1 non-null      object \n",
            " 16  Conference Location         1 non-null      object \n",
            " 17  Conference Sponsor          0 non-null      float64\n",
            " 18  Conference Host             0 non-null      float64\n",
            " 19  Author Keywords             0 non-null      float64\n",
            " 20  Keywords Plus               0 non-null      float64\n",
            " 21  Abstract                    0 non-null      float64\n",
            " 22  Addresses                   0 non-null      float64\n",
            " 23  Reprint Addresses           0 non-null      float64\n",
            " 24  Email Addresses             0 non-null      float64\n",
            " 25  Researcher Ids              29 non-null     object \n",
            " 26  ORCIDs                      45 non-null     object \n",
            " 27  Funding Orgs                0 non-null      float64\n",
            " 28  Funding Text                0 non-null      float64\n",
            " 29  Cited References            0 non-null      float64\n",
            " 30  Cited Reference Count       0 non-null      float64\n",
            " 31  Times Cited, WoS Core       0 non-null      float64\n",
            " 32  Times Cited, All Databases  0 non-null      float64\n",
            " 33  180 Day Usage Count         0 non-null      float64\n",
            " 34  Since 2013 Usage Count      0 non-null      float64\n",
            " 35  Publisher                   0 non-null      float64\n",
            " 36  Publisher City              0 non-null      float64\n",
            " 37  Publisher Address           0 non-null      float64\n",
            " 38  ISSN                        62 non-null     object \n",
            " 39  eISSN                       52 non-null     object \n",
            " 40  ISBN                        0 non-null      float64\n",
            " 41  Journal Abbreviation        0 non-null      float64\n",
            " 42  Journal ISO Abbreviation    0 non-null      float64\n",
            " 43  Publication Date            53 non-null     object \n",
            " 44  Publication Year            66 non-null     float64\n",
            " 45  Volume                      66 non-null     object \n",
            " 46  Issue                       46 non-null     float64\n",
            " 47  Part Number                 0 non-null      float64\n",
            " 48  Supplement                  1 non-null      object \n",
            " 49  Special Issue               8 non-null      object \n",
            " 50  Meeting Abstract            0 non-null      float64\n",
            " 51  Start Page                  49 non-null     float64\n",
            " 52  End Page                    49 non-null     float64\n",
            " 53  Article Number              16 non-null     float64\n",
            " 54  DOI                         69 non-null     object \n",
            " 55  Book DOI                    0 non-null      float64\n",
            " 56  Early Access Date           5 non-null      object \n",
            " 57  Number of Pages             0 non-null      float64\n",
            " 58  WoS Categories              0 non-null      float64\n",
            " 59  Research Areas              0 non-null      float64\n",
            " 60  IDS Number                  0 non-null      float64\n",
            " 61  UT (Unique WOS ID)          69 non-null     object \n",
            " 62  Pubmed Id                   3 non-null      float64\n",
            " 63  Open Access Designations    0 non-null      float64\n",
            " 64  Highly Cited Status         0 non-null      float64\n",
            " 65  Hot Paper Status            0 non-null      float64\n",
            " 66  Date of Export              0 non-null      float64\n",
            " 67  Unnamed: 67                 0 non-null      float64\n",
            "dtypes: float64(49), object(19)\n",
            "memory usage: 36.8+ KB\n"
          ]
        }
      ]
    },
    {
      "cell_type": "code",
      "metadata": {
        "colab": {
          "base_uri": "https://localhost:8080/"
        },
        "id": "npjUUEa7awEo",
        "outputId": "838cddab-2baf-4ddd-acc1-456c13199bfb"
      },
      "source": [
        "Scopus_recs.info()"
      ],
      "execution_count": null,
      "outputs": [
        {
          "output_type": "stream",
          "name": "stdout",
          "text": [
            "<class 'pandas.core.frame.DataFrame'>\n",
            "RangeIndex: 145 entries, 0 to 144\n",
            "Data columns (total 2 columns):\n",
            " #   Column  Non-Null Count  Dtype \n",
            "---  ------  --------------  ----- \n",
            " 0   DOI     141 non-null    object\n",
            " 1   Link    145 non-null    object\n",
            "dtypes: object(2)\n",
            "memory usage: 2.4+ KB\n"
          ]
        }
      ]
    },
    {
      "cell_type": "code",
      "metadata": {
        "id": "whRlRb0wa4TP"
      },
      "source": [
        "joined_recs = pd.merge(WoS_recs, Scopus_recs, how=\"outer\",on=\"DOI\")"
      ],
      "execution_count": null,
      "outputs": []
    },
    {
      "cell_type": "code",
      "metadata": {
        "colab": {
          "base_uri": "https://localhost:8080/"
        },
        "id": "M6koBPWAbwfv",
        "outputId": "ea6965b8-7fe5-43ce-c7e2-8711167408d2"
      },
      "source": [
        "joined_recs.info()"
      ],
      "execution_count": null,
      "outputs": [
        {
          "output_type": "stream",
          "name": "stdout",
          "text": [
            "<class 'pandas.core.frame.DataFrame'>\n",
            "Int64Index: 158 entries, 0 to 157\n",
            "Data columns (total 69 columns):\n",
            " #   Column                      Non-Null Count  Dtype  \n",
            "---  ------                      --------------  -----  \n",
            " 0   Publication Type            69 non-null     object \n",
            " 1   Authors                     69 non-null     object \n",
            " 2   Book Authors                0 non-null      float64\n",
            " 3   Book Editors                0 non-null      float64\n",
            " 4   Book Group Authors          0 non-null      float64\n",
            " 5   Author Full Names           69 non-null     object \n",
            " 6   Book Author Full Names      0 non-null      float64\n",
            " 7   Group Authors               0 non-null      float64\n",
            " 8   Article Title               69 non-null     object \n",
            " 9   Source Title                69 non-null     object \n",
            " 10  Book Series Title           0 non-null      float64\n",
            " 11  Book Series Subtitle        0 non-null      float64\n",
            " 12  Language                    0 non-null      float64\n",
            " 13  Document Type               0 non-null      float64\n",
            " 14  Conference Title            1 non-null      object \n",
            " 15  Conference Date             1 non-null      object \n",
            " 16  Conference Location         1 non-null      object \n",
            " 17  Conference Sponsor          0 non-null      float64\n",
            " 18  Conference Host             0 non-null      float64\n",
            " 19  Author Keywords             0 non-null      float64\n",
            " 20  Keywords Plus               0 non-null      float64\n",
            " 21  Abstract                    0 non-null      float64\n",
            " 22  Addresses                   0 non-null      float64\n",
            " 23  Reprint Addresses           0 non-null      float64\n",
            " 24  Email Addresses             0 non-null      float64\n",
            " 25  Researcher Ids              29 non-null     object \n",
            " 26  ORCIDs                      45 non-null     object \n",
            " 27  Funding Orgs                0 non-null      float64\n",
            " 28  Funding Text                0 non-null      float64\n",
            " 29  Cited References            0 non-null      float64\n",
            " 30  Cited Reference Count       0 non-null      float64\n",
            " 31  Times Cited, WoS Core       0 non-null      float64\n",
            " 32  Times Cited, All Databases  0 non-null      float64\n",
            " 33  180 Day Usage Count         0 non-null      float64\n",
            " 34  Since 2013 Usage Count      0 non-null      float64\n",
            " 35  Publisher                   0 non-null      float64\n",
            " 36  Publisher City              0 non-null      float64\n",
            " 37  Publisher Address           0 non-null      float64\n",
            " 38  ISSN                        62 non-null     object \n",
            " 39  eISSN                       52 non-null     object \n",
            " 40  ISBN                        0 non-null      float64\n",
            " 41  Journal Abbreviation        0 non-null      float64\n",
            " 42  Journal ISO Abbreviation    0 non-null      float64\n",
            " 43  Publication Date            53 non-null     object \n",
            " 44  Publication Year            66 non-null     float64\n",
            " 45  Volume                      66 non-null     object \n",
            " 46  Issue                       46 non-null     float64\n",
            " 47  Part Number                 0 non-null      float64\n",
            " 48  Supplement                  1 non-null      object \n",
            " 49  Special Issue               8 non-null      object \n",
            " 50  Meeting Abstract            0 non-null      float64\n",
            " 51  Start Page                  49 non-null     float64\n",
            " 52  End Page                    49 non-null     float64\n",
            " 53  Article Number              16 non-null     float64\n",
            " 54  DOI                         154 non-null    object \n",
            " 55  Book DOI                    0 non-null      float64\n",
            " 56  Early Access Date           5 non-null      object \n",
            " 57  Number of Pages             0 non-null      float64\n",
            " 58  WoS Categories              0 non-null      float64\n",
            " 59  Research Areas              0 non-null      float64\n",
            " 60  IDS Number                  0 non-null      float64\n",
            " 61  UT (Unique WOS ID)          69 non-null     object \n",
            " 62  Pubmed Id                   3 non-null      float64\n",
            " 63  Open Access Designations    0 non-null      float64\n",
            " 64  Highly Cited Status         0 non-null      float64\n",
            " 65  Hot Paper Status            0 non-null      float64\n",
            " 66  Date of Export              0 non-null      float64\n",
            " 67  Unnamed: 67                 0 non-null      float64\n",
            " 68  Link                        145 non-null    object \n",
            "dtypes: float64(49), object(20)\n",
            "memory usage: 86.4+ KB\n"
          ]
        }
      ]
    },
    {
      "cell_type": "code",
      "metadata": {
        "id": "aB22rzvybzHI"
      },
      "source": [
        "joined_recs.to_excel(\"/content/drive/MyDrive/SLR_tinyml/joined_recs_29082021_b.xlsx\")"
      ],
      "execution_count": null,
      "outputs": []
    },
    {
      "cell_type": "code",
      "metadata": {
        "id": "bf3LVXz1cI0B"
      },
      "source": [
        ""
      ],
      "execution_count": null,
      "outputs": []
    }
  ]
}