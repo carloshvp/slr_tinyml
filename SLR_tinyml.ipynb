{
  "nbformat": 4,
  "nbformat_minor": 0,
  "metadata": {
    "colab": {
      "name": "SLR_tinyml.ipynb",
      "provenance": [],
      "collapsed_sections": [],
      "authorship_tag": "ABX9TyOTVKW8pAa1rXZRiCF3uJci",
      "include_colab_link": true
    },
    "kernelspec": {
      "name": "python3",
      "display_name": "Python 3"
    },
    "language_info": {
      "name": "python"
    }
  },
  "cells": [
    {
      "cell_type": "markdown",
      "metadata": {
        "id": "view-in-github",
        "colab_type": "text"
      },
      "source": [
        "<a href=\"https://colab.research.google.com/github/carloshvp/slr_tinyml/blob/main/SLR_tinyml.ipynb\" target=\"_parent\"><img src=\"https://colab.research.google.com/assets/colab-badge.svg\" alt=\"Open In Colab\"/></a>"
      ]
    },
    {
      "cell_type": "code",
      "metadata": {
        "id": "GopAmLKS15Ej",
        "colab": {
          "base_uri": "https://localhost:8080/"
        },
        "outputId": "a819a840-fddb-4c00-836c-732083f72001"
      },
      "source": [
        "import numpy as np\n",
        "import pandas as pd\n",
        "from matplotlib import pyplot as plt\n",
        "!pip install --upgrade xlrd"
      ],
      "execution_count": null,
      "outputs": [
        {
          "output_type": "stream",
          "name": "stdout",
          "text": [
            "Looking in indexes: https://pypi.org/simple, https://us-python.pkg.dev/colab-wheels/public/simple/\n",
            "Requirement already satisfied: xlrd in /usr/local/lib/python3.7/dist-packages (1.1.0)\n",
            "Collecting xlrd\n",
            "  Downloading xlrd-2.0.1-py2.py3-none-any.whl (96 kB)\n",
            "\u001b[K     |████████████████████████████████| 96 kB 2.9 MB/s \n",
            "\u001b[?25hInstalling collected packages: xlrd\n",
            "  Attempting uninstall: xlrd\n",
            "    Found existing installation: xlrd 1.1.0\n",
            "    Uninstalling xlrd-1.1.0:\n",
            "      Successfully uninstalled xlrd-1.1.0\n",
            "Successfully installed xlrd-2.0.1\n"
          ]
        }
      ]
    },
    {
      "cell_type": "code",
      "metadata": {
        "colab": {
          "base_uri": "https://localhost:8080/"
        },
        "id": "wWWsoU6l2BZn",
        "outputId": "6297265c-1781-451a-935f-609a3246f7af"
      },
      "source": [
        "# Mounting Google Drive to load Dataset\n",
        "from google.colab import drive\n",
        "drive.mount('/content/drive')"
      ],
      "execution_count": null,
      "outputs": [
        {
          "output_type": "stream",
          "name": "stdout",
          "text": [
            "Mounted at /content/drive\n"
          ]
        }
      ]
    },
    {
      "cell_type": "code",
      "metadata": {
        "id": "xf3GLL1U7SlO"
      },
      "source": [
        "WoS_recs = pd.read_excel(\"/content/drive/MyDrive/SLR_tinyml/WoS_03072022.xls\", sheet_name=\"savedrecs\")"
      ],
      "execution_count": null,
      "outputs": []
    },
    {
      "cell_type": "code",
      "metadata": {
        "id": "9vwpXjrUaPXr"
      },
      "source": [
        "Scopus_recs = pd.read_csv(\"/content/drive/MyDrive/SLR_tinyml/scopus_03072022.csv\", sep=\",\")"
      ],
      "execution_count": null,
      "outputs": []
    },
    {
      "cell_type": "code",
      "metadata": {
        "colab": {
          "base_uri": "https://localhost:8080/"
        },
        "id": "NyqSlGgWatZG",
        "outputId": "c0f4ad17-aa6b-4446-8059-f53ee1bbdd0b"
      },
      "source": [
        "WoS_recs.info()"
      ],
      "execution_count": null,
      "outputs": [
        {
          "output_type": "stream",
          "name": "stdout",
          "text": [
            "<class 'pandas.core.frame.DataFrame'>\n",
            "RangeIndex: 26 entries, 0 to 25\n",
            "Data columns (total 72 columns):\n",
            " #   Column                      Non-Null Count  Dtype  \n",
            "---  ------                      --------------  -----  \n",
            " 0   Publication Type            26 non-null     object \n",
            " 1   Authors                     26 non-null     object \n",
            " 2   Book Authors                0 non-null      float64\n",
            " 3   Book Editors                1 non-null      object \n",
            " 4   Book Group Authors          0 non-null      float64\n",
            " 5   Author Full Names           26 non-null     object \n",
            " 6   Book Author Full Names      0 non-null      float64\n",
            " 7   Group Authors               0 non-null      float64\n",
            " 8   Article Title               26 non-null     object \n",
            " 9   Source Title                26 non-null     object \n",
            " 10  Book Series Title           1 non-null      object \n",
            " 11  Book Series Subtitle        0 non-null      float64\n",
            " 12  Language                    26 non-null     object \n",
            " 13  Document Type               26 non-null     object \n",
            " 14  Conference Title            0 non-null      float64\n",
            " 15  Conference Date             0 non-null      float64\n",
            " 16  Conference Location         0 non-null      float64\n",
            " 17  Conference Sponsor          0 non-null      float64\n",
            " 18  Conference Host             0 non-null      float64\n",
            " 19  Author Keywords             24 non-null     object \n",
            " 20  Keywords Plus               16 non-null     object \n",
            " 21  Abstract                    25 non-null     object \n",
            " 22  Addresses                   26 non-null     object \n",
            " 23  Affiliations                23 non-null     object \n",
            " 24  Reprint Addresses           26 non-null     object \n",
            " 25  Email Addresses             25 non-null     object \n",
            " 26  Researcher Ids              10 non-null     object \n",
            " 27  ORCIDs                      17 non-null     object \n",
            " 28  Funding Orgs                12 non-null     object \n",
            " 29  Funding Name Preferred      12 non-null     object \n",
            " 30  Funding Text                12 non-null     object \n",
            " 31  Cited References            0 non-null      float64\n",
            " 32  Cited Reference Count       26 non-null     int64  \n",
            " 33  Times Cited, WoS Core       26 non-null     int64  \n",
            " 34  Times Cited, All Databases  26 non-null     int64  \n",
            " 35  180 Day Usage Count         26 non-null     int64  \n",
            " 36  Since 2013 Usage Count      26 non-null     int64  \n",
            " 37  Publisher                   26 non-null     object \n",
            " 38  Publisher City              26 non-null     object \n",
            " 39  Publisher Address           26 non-null     object \n",
            " 40  ISSN                        22 non-null     object \n",
            " 41  eISSN                       19 non-null     object \n",
            " 42  ISBN                        1 non-null      object \n",
            " 43  Journal Abbreviation        26 non-null     object \n",
            " 44  Journal ISO Abbreviation    25 non-null     object \n",
            " 45  Publication Date            18 non-null     object \n",
            " 46  Publication Year            25 non-null     float64\n",
            " 47  Volume                      25 non-null     float64\n",
            " 48  Issue                       15 non-null     float64\n",
            " 49  Part Number                 0 non-null      float64\n",
            " 50  Supplement                  1 non-null      object \n",
            " 51  Special Issue               3 non-null      object \n",
            " 52  Meeting Abstract            0 non-null      float64\n",
            " 53  Start Page                  14 non-null     float64\n",
            " 54  End Page                    14 non-null     float64\n",
            " 55  Article Number              11 non-null     float64\n",
            " 56  DOI                         24 non-null     object \n",
            " 57  DOI Link                    24 non-null     float64\n",
            " 58  Book DOI                    0 non-null      float64\n",
            " 59  Early Access Date           6 non-null      object \n",
            " 60  Number of Pages             26 non-null     int64  \n",
            " 61  WoS Categories              26 non-null     object \n",
            " 62  Web of Science Index        26 non-null     object \n",
            " 63  Research Areas              26 non-null     object \n",
            " 64  IDS Number                  26 non-null     object \n",
            " 65  Pubmed Id                   0 non-null      float64\n",
            " 66  Open Access Designations    11 non-null     object \n",
            " 67  Highly Cited Status         0 non-null      float64\n",
            " 68  Hot Paper Status            0 non-null      float64\n",
            " 69  Date of Export              26 non-null     object \n",
            " 70  UT (Unique WOS ID)          26 non-null     object \n",
            " 71  Web of Science Record       26 non-null     int64  \n",
            "dtypes: float64(24), int64(7), object(41)\n",
            "memory usage: 14.8+ KB\n"
          ]
        }
      ]
    },
    {
      "cell_type": "code",
      "metadata": {
        "colab": {
          "base_uri": "https://localhost:8080/"
        },
        "id": "npjUUEa7awEo",
        "outputId": "5bd42aad-3a46-4734-96d6-7bc03a7eb56f"
      },
      "source": [
        "Scopus_recs.info()"
      ],
      "execution_count": null,
      "outputs": [
        {
          "output_type": "stream",
          "name": "stdout",
          "text": [
            "<class 'pandas.core.frame.DataFrame'>\n",
            "RangeIndex: 74 entries, 0 to 73\n",
            "Data columns (total 46 columns):\n",
            " #   Column                         Non-Null Count  Dtype  \n",
            "---  ------                         --------------  -----  \n",
            " 0   Authors                        74 non-null     object \n",
            " 1   Author(s) ID                   74 non-null     object \n",
            " 2   Title                          74 non-null     object \n",
            " 3   Year                           74 non-null     int64  \n",
            " 4   Source title                   74 non-null     object \n",
            " 5   Volume                         70 non-null     float64\n",
            " 6   Issue                          48 non-null     float64\n",
            " 7   Art. No.                       56 non-null     float64\n",
            " 8   Page start                     32 non-null     float64\n",
            " 9   Page end                       32 non-null     float64\n",
            " 10  Page count                     0 non-null      float64\n",
            " 11  Cited by                       49 non-null     float64\n",
            " 12  DOI                            71 non-null     object \n",
            " 13  Link                           74 non-null     object \n",
            " 14  Affiliations                   73 non-null     object \n",
            " 15  Authors with affiliations      74 non-null     object \n",
            " 16  Abstract                       74 non-null     object \n",
            " 17  Author Keywords                72 non-null     object \n",
            " 18  Index Keywords                 57 non-null     object \n",
            " 19  Molecular Sequence Numbers     0 non-null      float64\n",
            " 20  Chemicals/CAS                  0 non-null      float64\n",
            " 21  Tradenames                     0 non-null      float64\n",
            " 22  Manufacturers                  0 non-null      float64\n",
            " 23  Funding Details                42 non-null     object \n",
            " 24  Funding Text 1                 42 non-null     object \n",
            " 25  Funding Text 2                 1 non-null      object \n",
            " 26  References                     71 non-null     object \n",
            " 27  Correspondence Address         59 non-null     object \n",
            " 28  Editors                        0 non-null      float64\n",
            " 29  Sponsors                       0 non-null      float64\n",
            " 30  Publisher                      73 non-null     object \n",
            " 31  Conference name                0 non-null      float64\n",
            " 32  Conference date                0 non-null      float64\n",
            " 33  Conference location            0 non-null      float64\n",
            " 34  Conference code                0 non-null      float64\n",
            " 35  ISSN                           73 non-null     object \n",
            " 36  ISBN                           1 non-null      float64\n",
            " 37  CODEN                          17 non-null     object \n",
            " 38  PubMed ID                      7 non-null      float64\n",
            " 39  Language of Original Document  73 non-null     object \n",
            " 40  Abbreviated Source Title       74 non-null     object \n",
            " 41  Document Type                  74 non-null     object \n",
            " 42  Publication Stage              74 non-null     object \n",
            " 43  Open Access                    43 non-null     object \n",
            " 44  Source                         74 non-null     object \n",
            " 45  EID                            74 non-null     object \n",
            "dtypes: float64(19), int64(1), object(26)\n",
            "memory usage: 26.7+ KB\n"
          ]
        }
      ]
    },
    {
      "cell_type": "code",
      "metadata": {
        "id": "whRlRb0wa4TP"
      },
      "source": [
        "joined_recs = pd.merge(WoS_recs, Scopus_recs, how=\"outer\",on=\"DOI\", indicator=True)"
      ],
      "execution_count": null,
      "outputs": []
    },
    {
      "cell_type": "code",
      "metadata": {
        "colab": {
          "base_uri": "https://localhost:8080/"
        },
        "id": "M6koBPWAbwfv",
        "outputId": "88d15258-2aba-42ee-aaa3-31f861c3b14b"
      },
      "source": [
        "joined_recs.info()"
      ],
      "execution_count": null,
      "outputs": [
        {
          "output_type": "stream",
          "name": "stdout",
          "text": [
            "<class 'pandas.core.frame.DataFrame'>\n",
            "Int64Index: 82 entries, 0 to 81\n",
            "Columns: 118 entries, Publication Type to _merge\n",
            "dtypes: category(1), float64(51), object(66)\n",
            "memory usage: 75.8+ KB\n"
          ]
        }
      ]
    },
    {
      "cell_type": "code",
      "source": [
        "#Drop entries where DOI is empty (NaN)\n",
        "joined_recs.dropna(subset = [\"DOI\"], inplace=True)"
      ],
      "metadata": {
        "id": "AiWmJ8MTsW9S"
      },
      "execution_count": null,
      "outputs": []
    },
    {
      "cell_type": "code",
      "source": [
        "joined_recs.info()"
      ],
      "metadata": {
        "colab": {
          "base_uri": "https://localhost:8080/"
        },
        "id": "eBhu-DgGv0r2",
        "outputId": "d7844462-6aac-4111-bb63-229741d28580"
      },
      "execution_count": null,
      "outputs": [
        {
          "output_type": "stream",
          "name": "stdout",
          "text": [
            "<class 'pandas.core.frame.DataFrame'>\n",
            "Int64Index: 76 entries, 0 to 81\n",
            "Columns: 118 entries, Publication Type to _merge\n",
            "dtypes: category(1), float64(51), object(66)\n",
            "memory usage: 70.3+ KB\n"
          ]
        }
      ]
    },
    {
      "cell_type": "code",
      "source": [
        "# Load previous joined_recs and remove those entries which were not visible at that time\n",
        "joined_recs_19032022=pd.read_excel(\"/content/drive/MyDrive/SLR_tinyml/joined_recs_19032022.xlsx\")\n",
        "joined_recs_freeze_march = joined_recs[joined_recs[\"DOI\"].isin(joined_recs_19032022[\"DOI\"])]\n",
        "joined_recs_freeze_march.info()\n",
        "# It should be 195 items maximum"
      ],
      "metadata": {
        "colab": {
          "base_uri": "https://localhost:8080/"
        },
        "id": "DT6mAjyxwh4z",
        "outputId": "bb57b99d-fcf1-4ae4-a056-2c7906e7622c"
      },
      "execution_count": null,
      "outputs": [
        {
          "output_type": "stream",
          "name": "stdout",
          "text": [
            "<class 'pandas.core.frame.DataFrame'>\n",
            "Int64Index: 70 entries, 0 to 81\n",
            "Columns: 118 entries, Publication Type to _merge\n",
            "dtypes: category(1), float64(51), object(66)\n",
            "memory usage: 64.7+ KB\n"
          ]
        }
      ]
    },
    {
      "cell_type": "code",
      "source": [
        "joined_recs_19032022.info()"
      ],
      "metadata": {
        "id": "y0nkGNGS5MF4",
        "outputId": "c7b6178d-22b6-4cd8-e98d-185eaded7a0e",
        "colab": {
          "base_uri": "https://localhost:8080/"
        }
      },
      "execution_count": null,
      "outputs": [
        {
          "output_type": "stream",
          "name": "stdout",
          "text": [
            "<class 'pandas.core.frame.DataFrame'>\n",
            "RangeIndex: 203 entries, 0 to 202\n",
            "Data columns (total 72 columns):\n",
            " #   Column                      Non-Null Count  Dtype  \n",
            "---  ------                      --------------  -----  \n",
            " 0   Unnamed: 0                  203 non-null    float64\n",
            " 1   Publication Type            92 non-null     object \n",
            " 2   Authors                     92 non-null     object \n",
            " 3   Book Authors                0 non-null      float64\n",
            " 4   Book Editors                0 non-null      float64\n",
            " 5   Book Group Authors          0 non-null      float64\n",
            " 6   Author Full Names           92 non-null     object \n",
            " 7   Book Author Full Names      0 non-null      float64\n",
            " 8   Group Authors               0 non-null      float64\n",
            " 9   Article Title               92 non-null     object \n",
            " 10  Source Title                92 non-null     object \n",
            " 11  Book Series Title           0 non-null      float64\n",
            " 12  Book Series Subtitle        0 non-null      float64\n",
            " 13  Language                    0 non-null      float64\n",
            " 14  Document Type               0 non-null      float64\n",
            " 15  Conference Title            1 non-null      object \n",
            " 16  Conference Date             1 non-null      object \n",
            " 17  Conference Location         1 non-null      object \n",
            " 18  Conference Sponsor          0 non-null      float64\n",
            " 19  Conference Host             0 non-null      float64\n",
            " 20  Author Keywords             0 non-null      float64\n",
            " 21  Keywords Plus               0 non-null      float64\n",
            " 22  Abstract                    0 non-null      float64\n",
            " 23  Addresses                   0 non-null      float64\n",
            " 24  Affiliations                0 non-null      float64\n",
            " 25  Reprint Addresses           0 non-null      float64\n",
            " 26  Email Addresses             0 non-null      float64\n",
            " 27  Researcher Ids              42 non-null     object \n",
            " 28  ORCIDs                      62 non-null     object \n",
            " 29  Funding Orgs                0 non-null      float64\n",
            " 30  Funding Text                0 non-null      float64\n",
            " 31  Cited References            0 non-null      float64\n",
            " 32  Cited Reference Count       0 non-null      float64\n",
            " 33  Times Cited, WoS Core       0 non-null      float64\n",
            " 34  Times Cited, All Databases  0 non-null      float64\n",
            " 35  180 Day Usage Count         0 non-null      float64\n",
            " 36  Since 2013 Usage Count      0 non-null      float64\n",
            " 37  Publisher                   0 non-null      float64\n",
            " 38  Publisher City              0 non-null      float64\n",
            " 39  Publisher Address           0 non-null      float64\n",
            " 40  ISSN                        85 non-null     object \n",
            " 41  eISSN                       71 non-null     object \n",
            " 42  ISBN                        0 non-null      float64\n",
            " 43  Journal Abbreviation        0 non-null      float64\n",
            " 44  Journal ISO Abbreviation    0 non-null      float64\n",
            " 45  Publication Date            73 non-null     object \n",
            " 46  Publication Year            90 non-null     float64\n",
            " 47  Volume                      90 non-null     object \n",
            " 48  Issue                       62 non-null     float64\n",
            " 49  Part Number                 0 non-null      float64\n",
            " 50  Supplement                  2 non-null      object \n",
            " 51  Special Issue               9 non-null      object \n",
            " 52  Meeting Abstract            0 non-null      float64\n",
            " 53  Start Page                  66 non-null     float64\n",
            " 54  End Page                    66 non-null     float64\n",
            " 55  Article Number              23 non-null     float64\n",
            " 56  DOI                         195 non-null    object \n",
            " 57  Book DOI                    0 non-null      float64\n",
            " 58  Early Access Date           11 non-null     object \n",
            " 59  Number of Pages             0 non-null      float64\n",
            " 60  WoS Categories              0 non-null      float64\n",
            " 61  Web of Science Index        0 non-null      float64\n",
            " 62  Research Areas              0 non-null      float64\n",
            " 63  IDS Number                  0 non-null      float64\n",
            " 64  UT (Unique WOS ID)          92 non-null     object \n",
            " 65  Pubmed Id                   3 non-null      float64\n",
            " 66  Open Access Designations    0 non-null      float64\n",
            " 67  Highly Cited Status         0 non-null      float64\n",
            " 68  Hot Paper Status            0 non-null      float64\n",
            " 69  Date of Export              0 non-null      float64\n",
            " 70  Unnamed: 69                 0 non-null      float64\n",
            " 71  Link                        190 non-null    object \n",
            "dtypes: float64(52), object(20)\n",
            "memory usage: 114.3+ KB\n"
          ]
        }
      ]
    },
    {
      "cell_type": "code",
      "metadata": {
        "id": "aB22rzvybzHI"
      },
      "source": [
        "joined_recs.to_excel(\"/content/drive/MyDrive/SLR_tinyml/joined_recs_03072022.xlsx\")\n",
        "joined_recs_freeze_march.to_excel(\"/content/drive/MyDrive/SLR_tinyml/joined_recs_freeze_march.xlsx\")"
      ],
      "execution_count": null,
      "outputs": []
    },
    {
      "cell_type": "code",
      "metadata": {
        "id": "bf3LVXz1cI0B"
      },
      "source": [
        ""
      ],
      "execution_count": null,
      "outputs": []
    }
  ]
}